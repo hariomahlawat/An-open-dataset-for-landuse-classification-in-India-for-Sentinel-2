{
 "cells": [
  {
   "cell_type": "code",
   "execution_count": 10,
   "metadata": {},
   "outputs": [],
   "source": [
    "import os, sys\n",
    "from PIL import Image\n",
    "import numpy as np"
   ]
  },
  {
   "cell_type": "code",
   "execution_count": 44,
   "metadata": {},
   "outputs": [],
   "source": [
    "# specifying integer code of land cover classes\n",
    "green = 1\n",
    "water = 2\n",
    "builtup = 3\n",
    "barrenland = 4\n",
    "\n",
    "# list of districts for which the accuracy is to be calculated\n",
    "districts = ['Gurgaon','Hyderabad','Mumbai']\n",
    "\n",
    "# Name of the main folder where the cropped tif files of predictions are stored\n",
    "main_folder = 'Classification_Accuracy_Test'\n"
   ]
  },
  {
   "cell_type": "code",
   "execution_count": 60,
   "metadata": {},
   "outputs": [],
   "source": [
    "'''\n",
    "This function is used to calculate the precision of each landcover class from confusion matrix\n",
    "'''\n",
    "def precision(label, confusion_matrix):\n",
    "    col = confusion_matrix[:, label]\n",
    "    return confusion_matrix[label, label] / col.sum()\n",
    "   \n",
    "'''\n",
    "This function is used to calculate the recall value of each landcover class from confusion matrix\n",
    "'''\n",
    "def recall(label, confusion_matrix):\n",
    "    row = confusion_matrix[label, :]\n",
    "    return confusion_matrix[label, label] / row.sum()\n",
    "\n",
    "'''\n",
    "This function is used to calculate the overall accuracy of land cover classification in a district\n",
    "'''\n",
    "def accuracy(confusion_matrix):\n",
    "    diagonal_sum = confusion_matrix.trace()\n",
    "    sum_of_all_elements = confusion_matrix.sum()\n",
    "    return diagonal_sum / sum_of_all_elements \n",
    "\n"
   ]
  },
  {
   "cell_type": "code",
   "execution_count": 67,
   "metadata": {},
   "outputs": [
    {
     "name": "stdout",
     "output_type": "stream",
     "text": [
      "Confusion Matrix for district  Gurgaon is: \n",
      " [[4967    0    0   22]\n",
      " [  62  635    3    0]\n",
      " [   2    0 1246    1]\n",
      " [ 803    0  274  621]] \n",
      "\n",
      "Accuracy:  0.8648679944418712 \n",
      "\n",
      "label precision recall\n",
      "    0     0.851  0.996\n",
      "    1     1.000  0.907\n",
      "    2     0.818  0.998\n",
      "    3     0.964  0.366\n",
      "\n",
      "\n",
      "\n",
      "Confusion Matrix for district  Hyderabad is: \n",
      " [[ 800    3    1    0]\n",
      " [   0 1426    0    0]\n",
      " [   2    0 2207    0]\n",
      " [   3    0   14   16]] \n",
      "\n",
      "Accuracy:  0.9948568872987478 \n",
      "\n",
      "label precision recall\n",
      "    0     0.994  0.995\n",
      "    1     0.998  1.000\n",
      "    2     0.993  0.999\n",
      "    3     1.000  0.485\n",
      "\n",
      "\n",
      "\n",
      "Confusion Matrix for district  Mumbai is: \n",
      " [[ 366    0    0    0]\n",
      " [   0 2862    0    0]\n",
      " [  15   32 2351    0]\n",
      " [  17    0  111  266]] \n",
      "\n",
      "Accuracy:  0.9709302325581395 \n",
      "\n",
      "label precision recall\n",
      "    0     0.920  1.000\n",
      "    1     0.989  1.000\n",
      "    2     0.955  0.980\n",
      "    3     1.000  0.675\n",
      "\n",
      "\n",
      "\n"
     ]
    }
   ],
   "source": [
    "landcover_classes = ['Green','Water','Builtup','Barrenland']\n",
    "for district in districts:\n",
    "    confusion_matrix = [] # this is the confusion matrix against each district\n",
    "\n",
    "    for landcover in landcover_classes:\n",
    "        landcover_predicted_class_count = [0, 0, 0, 0] # this list stores the count of a particular class predicted as other classes \n",
    "        tif_files_path = main_folder+'/'+district+'/'+landcover        \n",
    "        \n",
    "        for tif_file in os.listdir(tif_files_path):\n",
    "            tif_image = np.asarray(Image.open(tif_files_path+'/'+tif_file))\n",
    "            \n",
    "            if green in np.unique(tif_image, return_counts=True)[0]:\n",
    "                landcover_predicted_class_count[0] += np.unique(tif_image, return_counts=True)[1][np.where(np.unique(tif_image,return_counts=True)[0]==green)[0][0]]\n",
    "            \n",
    "            if water in np.unique(tif_image, return_counts=True)[0]:\n",
    "                landcover_predicted_class_count[1] += np.unique(tif_image, return_counts=True)[1][np.where(np.unique(tif_image,return_counts=True)[0]==water)[0][0]]\n",
    "                \n",
    "            if builtup in np.unique(tif_image, return_counts=True)[0]:\n",
    "                landcover_predicted_class_count[2] += np.unique(tif_image, return_counts=True)[1][np.where(np.unique(tif_image,return_counts=True)[0]==builtup)[0][0]]\n",
    "                \n",
    "            if barrenland in np.unique(tif_image, return_counts=True)[0]:\n",
    "                landcover_predicted_class_count[3] += np.unique(tif_image, return_counts=True)[1][np.where(np.unique(tif_image,return_counts=True)[0]==barrenland)[0][0]]\n",
    "                \n",
    "        confusion_matrix.append(landcover_predicted_class_count)\n",
    "    \n",
    "    confusion_matrix = np.array(confusion_matrix)\n",
    "    print(\"Confusion Matrix for district \",district,\"is: \\n\",confusion_matrix,\"\\n\")\n",
    "    \n",
    "    print(\"Accuracy: \",accuracy(confusion_matrix),\"\\n\")\n",
    "    print(\"label precision recall\")\n",
    "    for label in range(4):\n",
    "        print(f\"{label:5d} {precision(label, confusion_matrix):9.3f} {recall(label, confusion_matrix):6.3f}\")\n",
    "    print(\"\\n\\n\")\n",
    "            "
   ]
  },
  {
   "cell_type": "code",
   "execution_count": null,
   "metadata": {},
   "outputs": [],
   "source": []
  }
 ],
 "metadata": {
  "kernelspec": {
   "display_name": "Python 3",
   "language": "python",
   "name": "python3"
  },
  "language_info": {
   "codemirror_mode": {
    "name": "ipython",
    "version": 3
   },
   "file_extension": ".py",
   "mimetype": "text/x-python",
   "name": "python",
   "nbconvert_exporter": "python",
   "pygments_lexer": "ipython3",
   "version": "3.6.9"
  }
 },
 "nbformat": 4,
 "nbformat_minor": 2
}
