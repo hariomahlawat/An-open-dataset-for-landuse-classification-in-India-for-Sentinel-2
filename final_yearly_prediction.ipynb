{
 "cells": [
  {
   "cell_type": "markdown",
   "metadata": {},
   "source": [
    "## We are taking prediction results of a district, taken at different point of time (different months within a year). We are going to combine all prediction results to make a final prediction for that year. "
   ]
  },
  {
   "cell_type": "code",
   "execution_count": 1,
   "metadata": {
    "collapsed": true
   },
   "outputs": [
    {
     "ename": "ModuleNotFoundError",
     "evalue": "No module named 'scipy'",
     "output_type": "error",
     "traceback": [
      "\u001b[0;31m---------------------------------------------------------------------------\u001b[0m",
      "\u001b[0;31mModuleNotFoundError\u001b[0m                       Traceback (most recent call last)",
      "\u001b[0;32m<ipython-input-1-3d7d962c8195>\u001b[0m in \u001b[0;36m<module>\u001b[0;34m()\u001b[0m\n\u001b[1;32m      3\u001b[0m \u001b[0;32mimport\u001b[0m \u001b[0mmath\u001b[0m\u001b[0;34m\u001b[0m\u001b[0;34m\u001b[0m\u001b[0m\n\u001b[1;32m      4\u001b[0m \u001b[0;32mfrom\u001b[0m \u001b[0mPIL\u001b[0m \u001b[0;32mimport\u001b[0m \u001b[0mImage\u001b[0m\u001b[0;34m\u001b[0m\u001b[0;34m\u001b[0m\u001b[0m\n\u001b[0;32m----> 5\u001b[0;31m \u001b[0;32mfrom\u001b[0m \u001b[0mscipy\u001b[0m \u001b[0;32mimport\u001b[0m \u001b[0mmisc\u001b[0m\u001b[0;34m\u001b[0m\u001b[0;34m\u001b[0m\u001b[0m\n\u001b[0m\u001b[1;32m      6\u001b[0m \u001b[0;32mfrom\u001b[0m \u001b[0mscipy\u001b[0m \u001b[0;32mimport\u001b[0m \u001b[0mndimage\u001b[0m\u001b[0;34m\u001b[0m\u001b[0;34m\u001b[0m\u001b[0m\n\u001b[1;32m      7\u001b[0m \u001b[0;32mimport\u001b[0m \u001b[0mimageio\u001b[0m\u001b[0;34m\u001b[0m\u001b[0;34m\u001b[0m\u001b[0m\n",
      "\u001b[0;31mModuleNotFoundError\u001b[0m: No module named 'scipy'"
     ]
    }
   ],
   "source": [
    "# import all required packsges\n",
    "from PIL import Image\n",
    "import math\n",
    "from PIL import Image\n",
    "from scipy import misc\n",
    "from scipy import ndimage\n",
    "import imageio\n",
    "import pandas as pd\n",
    "import unittest\n",
    "import os, sys\n",
    "import numpy as np\n",
    "\n",
    "from collections import Counter"
   ]
  },
  {
   "cell_type": "code",
   "execution_count": null,
   "metadata": {},
   "outputs": [],
   "source": [
    "# Covert monthly predictions from .tif to .png\n",
    "\n",
    "\n",
    "cities = ['Gurgaon','Hyderabad','Mumbai']\n",
    "for district in cities:\n",
    "    main_folder=district     #we have stored monthly predections in a folder named by district name\n",
    "    print(district)\n",
    "    os.makedirs(main_folder+\"/pngs\",exist_ok=True)\n",
    "    for infile in os.listdir(main_folder):\n",
    "        if infile[-4:] == \".tif\":                   #reading all tif files in given folder\n",
    "            im = Image.open(main_folder+\"/\"+infile)\n",
    "            im.save(main_folder+\"/pngs/\"+infile[:-4]+'.png')"
   ]
  },
  {
   "cell_type": "code",
   "execution_count": 19,
   "metadata": {},
   "outputs": [],
   "source": [
    "# Defining all required functions\n",
    "\n",
    "def min(a,b):    #find minimum between a and b\n",
    "    if a<b:\n",
    "        return a\n",
    "    return b\n",
    "\n",
    "def is_number_exist(num,listx):   #membership test\n",
    "    listx=set(listx)\n",
    "    if num in listx:\n",
    "        return True\n",
    "    \n",
    "def count(num,listx):                       #count the occurence of 'num' in 'listx'\n",
    "    keys = list(Counter(listx).keys())\n",
    "    values = list(Counter(listx).values())\n",
    "    flag = False\n",
    "    flag = is_number_exist(num,keys)\n",
    "    if flag == True:\n",
    "        num_count = values[keys.index(num)]\n",
    "    else:\n",
    "        num_count = 0\n",
    "    return num_count\n",
    "\n",
    "\n",
    "  \n",
    "#merge the monthly predictions and overall median prediction to get a single prediction for year\n",
    "# 0 denotes Background, 1 denotes greenery, 2 denotes water, 3 benotes Built-Up, 4 denotes Bareland\n",
    "def merge_prediction(x,median):\n",
    "    \n",
    "    #find the count of each kind of pixel value for a pixel across all the given years\n",
    "    background_count = count(0,x)\n",
    "    grass_count = count(1,x)\n",
    "    water_count = count(2,x)\n",
    "    buildings_count = count(3,x)\n",
    "    bareland_count = count(4,x)\n",
    "    total = len(x)\n",
    "    \n",
    "    #apllying different rules\n",
    "    if (background_count == total):\n",
    "        return '0'\n",
    "    elif (water_count >= 1 and water_count > 1.5 * grass_count and grass_count>0):\n",
    "        return '2'\n",
    "    elif (water_count >= 0.5 * total):\n",
    "        return '2'\n",
    "    elif (water_count >= 1 and water_count <= 1.5 * grass_count and grass_count>0):\n",
    "        return '1'\n",
    "    elif (water_count != 0 and grass_count == 0 ):\n",
    "        return str(median)\n",
    "    elif ( grass_count >=1 ):\n",
    "        return '1'\n",
    "    elif((bareland_count > buildings_count) and grass_count==0 and water_count==0 ):\n",
    "        return '4'\n",
    "    else:\n",
    "        return '3'        "
   ]
  },
  {
   "cell_type": "code",
   "execution_count": 17,
   "metadata": {
    "collapsed": true
   },
   "outputs": [
    {
     "name": "stdout",
     "output_type": "stream",
     "text": [
      "Gurgaon\n",
      "2014\n",
      "[('05', 272659), ('11', 900784), ('03', 1071409), ('01', 801385), ('07', 356010), ('09', 762246)]\n",
      "[('03', 1071409), ('11', 900784), ('01', 801385), ('09', 762246), ('07', 356010), ('05', 272659)]\n",
      "['03', '11', '01', '09', '07']\n",
      "Hariom_Landsat_new2-min/pngs/Landsat8_SR_Gurgaon_2014_03.png\n",
      "Hariom_Landsat_new2-min/pngs/Landsat8_SR_Gurgaon_2014_11.png\n",
      "Hariom_Landsat_new2-min/pngs/Landsat8_SR_Gurgaon_2014_01.png\n",
      "Hariom_Landsat_new2-min/pngs/Landsat8_SR_Gurgaon_2014_09.png\n",
      "Hariom_Landsat_new2-min/pngs/Landsat8_SR_Gurgaon_2014_07.png\n",
      "Hariom_Landsat_new2-min/pngs/Landsat8_SR_Gurgaon_2014_year_median.png\n",
      "prediction1  (Array([0, 1, 2, 3, 4], dtype=uint16), array([1141448, 1071409,   13939,  152251,  395758]))\n",
      "prediction2  (Array([0, 1, 2, 3, 4], dtype=uint16), array([1142867,  900784,   32044,  487081,  212029]))\n",
      "prediction3  (Array([0, 1, 2, 3, 4], dtype=uint16), array([1531997,  801385,   24403,  271956,  145064]))\n",
      "prediction4  (Array([0, 1, 2, 3, 4], dtype=uint16), array([1141448,  762246,   13125,  103395,  754591]))\n",
      "prediction5  (Array([0, 1, 2, 3, 4], dtype=uint16), array([1141448,  356010,    9630,  111139, 1156578]))\n",
      "prediction_median  (Array([0, 1, 2, 3, 4], dtype=uint16), array([1141448,  397768,    7334,   74953, 1153302]))\n",
      "(1255, 2211)\n",
      "[[      0       1       2 ...    2208    2209    2210]\n",
      " [   2211    2212    2213 ...    4419    4420    4421]\n",
      " [   4422    4423    4424 ...    6630    6631    6632]\n",
      " ...\n",
      " [2768172 2768173 2768174 ... 2770380 2770381 2770382]\n",
      " [2770383 2770384 2770385 ... 2772591 2772592 2772593]\n",
      " [2772594 2772595 2772596 ... 2774802 2774803 2774804]]\n"
     ]
    },
    {
     "name": "stderr",
     "output_type": "stream",
     "text": [
      "Lossy conversion from int64 to uint8. Range [0, 4]. Convert image to uint8 prior to saving to suppress this warning.\n"
     ]
    },
    {
     "name": "stdout",
     "output_type": "stream",
     "text": [
      "final_prediction  (array([0, 1, 2, 3, 4]), array([1141448, 1453915,   12106,   83973,   83363]))\n",
      "2015\n",
      "[('01', 639152), ('09', 1125361), ('05', 525888), ('03', 1147449), ('11', 1043231)]\n",
      "[('03', 1147449), ('09', 1125361), ('11', 1043231), ('01', 639152), ('05', 525888)]\n",
      "['03', '09', '11', '01', '05']\n",
      "Hariom_Landsat_new2-min/pngs/Landsat8_SR_Gurgaon_2015_03.png\n",
      "Hariom_Landsat_new2-min/pngs/Landsat8_SR_Gurgaon_2015_09.png\n",
      "Hariom_Landsat_new2-min/pngs/Landsat8_SR_Gurgaon_2015_11.png\n",
      "Hariom_Landsat_new2-min/pngs/Landsat8_SR_Gurgaon_2015_01.png\n",
      "Hariom_Landsat_new2-min/pngs/Landsat8_SR_Gurgaon_2015_05.png\n",
      "Hariom_Landsat_new2-min/pngs/Landsat8_SR_Gurgaon_2015_year_median.png\n",
      "prediction1  (Array([0, 1, 2, 3, 4], dtype=uint16), array([1141448, 1147449,   24969,  139450,  321489]))\n",
      "prediction2  (Array([0, 1, 2, 3, 4], dtype=uint16), array([1141448, 1125361,   19729,  138866,  349401]))\n",
      "prediction3  (Array([0, 1, 2, 3, 4], dtype=uint16), array([1150966, 1043231,   33352,  407614,  139642]))\n",
      "prediction4  (Array([0, 1, 2, 3, 4], dtype=uint16), array([1699794,  639152,   18000,  339514,   78345]))\n",
      "prediction5  (Array([0, 1, 2, 3, 4], dtype=uint16), array([1141448,  525888,    6276,  197405,  903788]))\n",
      "prediction_median  (Array([0, 1, 2, 3, 4], dtype=uint16), array([1141448,  488895,   10473,   85129, 1048860]))\n",
      "(1255, 2211)\n",
      "[[      0       1       2 ...    2208    2209    2210]\n",
      " [   2211    2212    2213 ...    4419    4420    4421]\n",
      " [   4422    4423    4424 ...    6630    6631    6632]\n",
      " ...\n",
      " [2768172 2768173 2768174 ... 2770380 2770381 2770382]\n",
      " [2770383 2770384 2770385 ... 2772591 2772592 2772593]\n",
      " [2772594 2772595 2772596 ... 2774802 2774803 2774804]]\n"
     ]
    },
    {
     "name": "stderr",
     "output_type": "stream",
     "text": [
      "Lossy conversion from int64 to uint8. Range [0, 4]. Convert image to uint8 prior to saving to suppress this warning.\n"
     ]
    },
    {
     "name": "stdout",
     "output_type": "stream",
     "text": [
      "final_prediction  (array([0, 1, 2, 3, 4]), array([1141448, 1523542,   10951,   77568,   21296]))\n",
      "2016\n",
      "[('03', 1221061), ('07', 1381194), ('05', 471665), ('01', 1146760), ('09', 591327), ('11', 1172802)]\n",
      "[('07', 1381194), ('03', 1221061), ('11', 1172802), ('01', 1146760), ('09', 591327), ('05', 471665)]\n",
      "['07', '03', '11', '01', '09']\n",
      "Hariom_Landsat_new2-min/pngs/Landsat8_SR_Gurgaon_2016_07.png\n",
      "Hariom_Landsat_new2-min/pngs/Landsat8_SR_Gurgaon_2016_03.png\n",
      "Hariom_Landsat_new2-min/pngs/Landsat8_SR_Gurgaon_2016_11.png\n",
      "Hariom_Landsat_new2-min/pngs/Landsat8_SR_Gurgaon_2016_01.png\n",
      "Hariom_Landsat_new2-min/pngs/Landsat8_SR_Gurgaon_2016_09.png\n",
      "Hariom_Landsat_new2-min/pngs/Landsat8_SR_Gurgaon_2016_year_median.png\n",
      "prediction1  (Array([0, 1, 2, 3, 4], dtype=uint16), array([1181291, 1381194,   19991,   82502,  109827]))\n",
      "prediction2  (Array([0, 1, 2, 3, 4], dtype=uint16), array([1145478, 1221061,   13514,  199540,  195212]))\n",
      "prediction3  (Array([0, 1, 2, 3, 4], dtype=uint16), array([1151017, 1172802,   38989,  253509,  158488]))\n",
      "prediction4  (Array([0, 1, 2, 3, 4], dtype=uint16), array([1144588, 1146760,   25904,  289767,  167786]))\n",
      "prediction5  (Array([0, 1, 2, 3, 4], dtype=uint16), array([1141873,  591327,   21658,  127976,  891971]))\n",
      "prediction_median  (Array([0, 1, 2, 3, 4], dtype=uint16), array([1141448,  961157,   12973,  100443,  558784]))\n",
      "(1255, 2211)\n",
      "[[      0       1       2 ...    2208    2209    2210]\n",
      " [   2211    2212    2213 ...    4419    4420    4421]\n",
      " [   4422    4423    4424 ...    6630    6631    6632]\n",
      " ...\n",
      " [2768172 2768173 2768174 ... 2770380 2770381 2770382]\n",
      " [2770383 2770384 2770385 ... 2772591 2772592 2772593]\n",
      " [2772594 2772595 2772596 ... 2774802 2774803 2774804]]\n"
     ]
    },
    {
     "name": "stderr",
     "output_type": "stream",
     "text": [
      "Lossy conversion from int64 to uint8. Range [0, 4]. Convert image to uint8 prior to saving to suppress this warning.\n"
     ]
    },
    {
     "name": "stdout",
     "output_type": "stream",
     "text": [
      "final_prediction  (array([0, 1, 2, 3, 4]), array([1141675, 1546422,   15451,   63075,    8182]))\n",
      "2017\n",
      "[('09', 842092), ('03', 1243057), ('11', 1024039), ('05', 298276), ('01', 1170385)]\n",
      "[('03', 1243057), ('01', 1170385), ('11', 1024039), ('09', 842092), ('05', 298276)]\n",
      "['03', '01', '11', '09', '05']\n",
      "Hariom_Landsat_new2-min/pngs/Landsat8_SR_Gurgaon_2017_03.png\n",
      "Hariom_Landsat_new2-min/pngs/Landsat8_SR_Gurgaon_2017_01.png\n",
      "Hariom_Landsat_new2-min/pngs/Landsat8_SR_Gurgaon_2017_11.png\n",
      "Hariom_Landsat_new2-min/pngs/Landsat8_SR_Gurgaon_2017_09.png\n",
      "Hariom_Landsat_new2-min/pngs/Landsat8_SR_Gurgaon_2017_05.png\n",
      "Hariom_Landsat_new2-min/pngs/Landsat8_SR_Gurgaon_2017_year_median.png\n",
      "prediction1  (Array([0, 1, 2, 3, 4], dtype=uint16), array([1141448, 1243057,   17061,  176012,  197227]))\n",
      "prediction2  (Array([0, 1, 2, 3, 4], dtype=uint16), array([1148012, 1170385,   41001,  263728,  151679]))\n",
      "prediction3  (Array([0, 1, 2, 3, 4], dtype=uint16), array([1144803, 1024039,   57733,  386966,  161264]))\n",
      "prediction4  (Array([0, 1, 2, 3, 4], dtype=uint16), array([1141448,  842092,   33778,  149181,  608306]))\n",
      "prediction5  (Array([0, 1, 2, 3, 4], dtype=uint16), array([1141448,  298276,    8985,  132296, 1193800]))\n",
      "prediction_median  (Array([0, 1, 2, 3, 4], dtype=uint16), array([1141448,  534171,    8767,   87430, 1002989]))\n",
      "(1255, 2211)\n",
      "[[      0       1       2 ...    2208    2209    2210]\n",
      " [   2211    2212    2213 ...    4419    4420    4421]\n",
      " [   4422    4423    4424 ...    6630    6631    6632]\n",
      " ...\n",
      " [2768172 2768173 2768174 ... 2770380 2770381 2770382]\n",
      " [2770383 2770384 2770385 ... 2772591 2772592 2772593]\n",
      " [2772594 2772595 2772596 ... 2774802 2774803 2774804]]\n"
     ]
    },
    {
     "name": "stderr",
     "output_type": "stream",
     "text": [
      "Lossy conversion from int64 to uint8. Range [0, 4]. Convert image to uint8 prior to saving to suppress this warning.\n"
     ]
    },
    {
     "name": "stdout",
     "output_type": "stream",
     "text": [
      "final_prediction  (array([0, 1, 2, 3, 4]), array([1141448, 1517296,   18306,   77067,   20688]))\n",
      "2018\n",
      "[('05', 402754), ('03', 796309), ('01', 1184845), ('09', 939562), ('11', 1129576)]\n",
      "[('01', 1184845), ('11', 1129576), ('09', 939562), ('03', 796309), ('05', 402754)]\n",
      "['01', '11', '09', '03', '05']\n",
      "Hariom_Landsat_new2-min/pngs/Landsat8_SR_Gurgaon_2018_01.png\n",
      "Hariom_Landsat_new2-min/pngs/Landsat8_SR_Gurgaon_2018_11.png\n",
      "Hariom_Landsat_new2-min/pngs/Landsat8_SR_Gurgaon_2018_09.png\n",
      "Hariom_Landsat_new2-min/pngs/Landsat8_SR_Gurgaon_2018_03.png\n",
      "Hariom_Landsat_new2-min/pngs/Landsat8_SR_Gurgaon_2018_05.png\n",
      "Hariom_Landsat_new2-min/pngs/Landsat8_SR_Gurgaon_2018_year_median.png\n",
      "prediction1  (Array([0, 1, 2, 3, 4], dtype=uint16), array([1152185, 1184845,   44441,  245474,  147860]))\n",
      "prediction2  (Array([0, 1, 2, 3, 4], dtype=uint16), array([1164329, 1129576,   55201,  300014,  125685]))\n",
      "prediction3  (Array([0, 1, 2, 3, 4], dtype=uint16), array([1141597,  939562,   42946,  205502,  445198]))\n",
      "prediction4  (Array([0, 1, 2, 3, 4], dtype=uint16), array([1141448,  796309,   12728,  176615,  647705]))\n",
      "prediction5  (Array([0, 1, 2, 3, 4], dtype=uint16), array([1141448,  402754,    5835,  147101, 1077667]))\n",
      "prediction_median  (Array([0, 1, 2, 3, 4], dtype=uint16), array([1141448,  728525,   11440,   98774,  794618]))\n",
      "(1255, 2211)\n",
      "[[      0       1       2 ...    2208    2209    2210]\n",
      " [   2211    2212    2213 ...    4419    4420    4421]\n",
      " [   4422    4423    4424 ...    6630    6631    6632]\n",
      " ...\n",
      " [2768172 2768173 2768174 ... 2770380 2770381 2770382]\n",
      " [2770383 2770384 2770385 ... 2772591 2772592 2772593]\n",
      " [2772594 2772595 2772596 ... 2774802 2774803 2774804]]\n"
     ]
    },
    {
     "name": "stderr",
     "output_type": "stream",
     "text": [
      "Lossy conversion from int64 to uint8. Range [0, 4]. Convert image to uint8 prior to saving to suppress this warning.\n"
     ]
    },
    {
     "name": "stdout",
     "output_type": "stream",
     "text": [
      "final_prediction  (array([0, 1, 2, 3, 4]), array([1141448, 1519474,   23183,   72161,   18539]))\n",
      "2019\n",
      "[('05', 215853), ('01', 1184836), ('03', 1243605), ('07', 81767), ('11', 1119718), ('09', 1202581)]\n",
      "[('03', 1243605), ('09', 1202581), ('01', 1184836), ('11', 1119718), ('05', 215853), ('07', 81767)]\n",
      "['03', '09', '01', '11', '05']\n",
      "Hariom_Landsat_new2-min/pngs/Landsat8_SR_Gurgaon_2019_03.png\n",
      "Hariom_Landsat_new2-min/pngs/Landsat8_SR_Gurgaon_2019_09.png\n",
      "Hariom_Landsat_new2-min/pngs/Landsat8_SR_Gurgaon_2019_01.png\n",
      "Hariom_Landsat_new2-min/pngs/Landsat8_SR_Gurgaon_2019_11.png\n",
      "Hariom_Landsat_new2-min/pngs/Landsat8_SR_Gurgaon_2019_05.png\n",
      "Hariom_Landsat_new2-min/pngs/Landsat8_SR_Gurgaon_2019_year_median.png\n",
      "prediction1  (Array([0, 1, 2, 3, 4], dtype=uint16), array([1141448, 1243605,   19142,  180031,  190579]))\n",
      "prediction2  (Array([0, 1, 2, 3, 4], dtype=uint16), array([1142007, 1202581,   44539,  192602,  193076]))\n",
      "prediction3  (Array([0, 1, 2, 3, 4], dtype=uint16), array([1150556, 1184836,   44700,  222816,  171897]))\n",
      "prediction4  (Array([0, 1, 2, 3, 4], dtype=uint16), array([1142074, 1119718,   65103,  366925,   80985]))\n",
      "prediction5  (Array([0, 1, 2, 3, 4], dtype=uint16), array([1141448,  215853,    9212,  113111, 1295181]))\n",
      "prediction_median  (Array([0, 1, 2, 3, 4], dtype=uint16), array([1141448,  653922,   11474,   95424,  872537]))\n",
      "(1255, 2211)\n",
      "[[      0       1       2 ...    2208    2209    2210]\n",
      " [   2211    2212    2213 ...    4419    4420    4421]\n",
      " [   4422    4423    4424 ...    6630    6631    6632]\n",
      " ...\n",
      " [2768172 2768173 2768174 ... 2770380 2770381 2770382]\n",
      " [2770383 2770384 2770385 ... 2772591 2772592 2772593]\n",
      " [2772594 2772595 2772596 ... 2774802 2774803 2774804]]\n"
     ]
    },
    {
     "name": "stderr",
     "output_type": "stream",
     "text": [
      "Lossy conversion from int64 to uint8. Range [0, 4]. Convert image to uint8 prior to saving to suppress this warning.\n"
     ]
    },
    {
     "name": "stdout",
     "output_type": "stream",
     "text": [
      "final_prediction  (array([0, 1, 2, 3, 4]), array([1141448, 1513497,   22865,   87004,    9991]))\n"
     ]
    }
   ],
   "source": [
    "\n",
    "# Read all the different predictions of a district.\n",
    "\n",
    "############### Change district, year, month and resolution accordingly  ################# \n",
    "years=['2016','2017','2018','2019']\n",
    "\n",
    "for district in cities:\n",
    "    print(district)\n",
    "    main_folder=district     #we have stored monthly predections in a folder named by district name\n",
    "    os.makedirs(main_folder+\"/final\",exist_ok=True)\n",
    "    for year in years:\n",
    "        print(year)\n",
    "        Green_pixs=[]\n",
    "        for infile in os.listdir(main_folder+\"/pngs/\"):\n",
    "            if 'Sentinel_SR_' in infile and year in infile and 'median' not in infile: #reading all monthly predictions\n",
    "                im = Image.open(main_folder+\"/pngs/\"+infile)\n",
    "                month=infile[-6:-4]\n",
    "                Green_pixs.append((month,np.unique(im,return_counts=True)[1][1]))\n",
    "        print(Green_pixs)\n",
    "        Green_pixs.sort(key=lambda x:x[1],reverse=True)\n",
    "        print(Green_pixs)\n",
    "        months=[Green_pixs[i][0] for i in range(min(5,len(Green_pixs)))] #taking best 5 months on the basis of greenery\n",
    "        print(months)\n",
    "        ##########################################################################################\n",
    "\n",
    "        prediction1 = 'Sentinel_SR_'+ district +'_'+ year +'_' + months[0] + '.png'\n",
    "        prediction2 = 'Sentinel_SR_'+ district +'_'+ year +'_' + months[1] + '.png'\n",
    "        prediction3 = 'Sentinel_SR_'+ district +'_'+ year +'_' + months[2] + '.png'\n",
    "        prediction4 = 'Sentinel_SR_'+ district +'_'+ year +'_' + months[3] + '.png'\n",
    "        prediction5 = 'Sentinel_SR_'+ district +'_'+ year +'_' + months[4] + '.png'\n",
    "        \n",
    "        \n",
    "        #defining median file name\n",
    "        prediction_median = 'Sentinel_SR_Gurgaon_'+year+'_year_median.png'\n",
    "\n",
    "\n",
    "\n",
    "\n",
    "        prediction1_path = main_folder+'/pngs/'+prediction1\n",
    "        prediction2_path = main_folder+'/pngs/'+prediction2\n",
    "        prediction3_path = main_folder+'/pngs/'+prediction3\n",
    "        prediction4_path = main_folder+'/pngs/'+prediction4\n",
    "        prediction5_path = main_folder+'/pngs/'+prediction5\n",
    "\n",
    "        prediction_median_path = main_folder+'/pngs/'+prediction_median\n",
    "\n",
    "\n",
    "\n",
    "\n",
    "        print(prediction1_path)\n",
    "        print(prediction2_path)\n",
    "        print(prediction3_path)\n",
    "        print(prediction4_path)\n",
    "        print(prediction5_path)\n",
    "        print(prediction_median_path)\n",
    "\n",
    "# Read all the required predictions\n",
    "\n",
    "        prediction1 = imageio.imread(prediction1_path)\n",
    "        prediction2 = imageio.imread(prediction2_path)\n",
    "        prediction3 = imageio.imread(prediction3_path)\n",
    "        prediction4 = imageio.imread(prediction4_path)\n",
    "        prediction5 = imageio.imread(prediction5_path)\n",
    "\n",
    "        prediction_median = imageio.imread(prediction_median_path)\n",
    "\n",
    "\n",
    "        print(\"prediction1 \",np.unique(prediction1,return_counts=True))\n",
    "        print(\"prediction2 \",np.unique(prediction2,return_counts=True))\n",
    "        print(\"prediction3 \",np.unique(prediction3,return_counts=True))\n",
    "        print(\"prediction4 \",np.unique(prediction4,return_counts=True))\n",
    "        print(\"prediction5 \",np.unique(prediction5,return_counts=True))\n",
    "\n",
    "        print(\"prediction_median \",np.unique(prediction_median,return_counts=True))\n",
    "\n",
    "        image_dimension = prediction1.shape\n",
    "        print(image_dimension)\n",
    "\n",
    "        final_prediction = np.arange(image_dimension[0] * image_dimension[1]).reshape(image_dimension)\n",
    "        print(final_prediction)\n",
    "\n",
    "\n",
    "        for i in range(image_dimension[0]):\n",
    "            for j in range(image_dimension[1]):\n",
    "                x=[ prediction1[i][j], prediction2[i][j], prediction3[i][j], prediction4[i][j], prediction5[i][j]]\n",
    "                final_prediction[i,j] = merge_prediction(x, prediction_median[i][j] )\n",
    "\n",
    "        print(\"final_prediction \",np.unique(final_prediction,return_counts=True))\n",
    "\n",
    "        imageio.imwrite(main_folder+'/final/'+district +'_prediction_'+year+'.png', final_prediction[:,:])\n"
   ]
  },
  {
   "cell_type": "code",
   "execution_count": 228,
   "metadata": {
    "collapsed": true
   },
   "outputs": [
    {
     "name": "stdout",
     "output_type": "stream",
     "text": [
      "[(9926, (255, 255, 255, 255)), (108347, (191, 191, 191, 255)), (4173, (127, 127, 127, 255)), (102763, (64, 64, 64, 255)), (117523, (0, 0, 0, 255))]\n"
     ]
    }
   ],
   "source": [
    "#make final predictions colorful\n",
    "\n",
    "from PIL import Image\n",
    "\n",
    "district='Chennai'\n",
    "year='2016'\n",
    "image= '_new/' +  'final_prediction_results/'+resolution+district+'/'+district +'_prediction_'+year+'.png'\n",
    "\n",
    "\n",
    "img = Image.open(image)\n",
    "img = img.convert(\"RGBA\")\n",
    "pixdata = img.load()\n",
    "print(img.getcolors())\n",
    "for y in range(img.size[1]):\n",
    "    for x in range(img.size[0]):\n",
    "        if pixdata[x, y] == (0, 0, 0, 255): #background\n",
    "            pixdata[x, y] = (0,0,0, 0)\n",
    "        elif pixdata[x, y] == (64, 64, 64, 255):      #green\n",
    "            pixdata[x, y] = (34,139,34, 255)\n",
    "        elif pixdata[x, y] == (127, 127, 127, 255):    #water\n",
    "            pixdata[x, y] = (2, 4, 251, 255)\n",
    "        elif pixdata[x, y] == (191, 191, 191, 255):   #buildingd \n",
    "            pixdata[x, y] = (255, 255, 102, 255)\n",
    "        elif pixdata[x, y] == (255, 255, 255, 255):   #bareland\n",
    "            pixdata[x, y] = (255, 80, 80, 255)\n",
    "img.save('_new/final_prediction_results/'+resolution+district+'/'+district+'_prediction_'+year+'_colored_median2.png')"
   ]
  },
  {
   "cell_type": "code",
   "execution_count": null,
   "metadata": {},
   "outputs": [],
   "source": []
  }
 ],
 "metadata": {
  "kernelspec": {
   "display_name": "Python 3",
   "language": "python",
   "name": "python3"
  },
  "language_info": {
   "codemirror_mode": {
    "name": "ipython",
    "version": 3
   },
   "file_extension": ".py",
   "mimetype": "text/x-python",
   "name": "python",
   "nbconvert_exporter": "python",
   "pygments_lexer": "ipython3",
   "version": "3.7.5"
  }
 },
 "nbformat": 4,
 "nbformat_minor": 4
}
